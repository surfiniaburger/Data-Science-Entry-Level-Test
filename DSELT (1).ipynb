{
 "cells": [
  {
   "cell_type": "markdown",
   "id": "566392c9-7334-4298-967c-51ff0caeabee",
   "metadata": {},
   "source": [
    "## **Introduction**"
   ]
  },
  {
   "cell_type": "markdown",
   "id": "7690eff4-b9d8-41e1-a94e-771803608f14",
   "metadata": {},
   "source": [
    "In this lab, we learned about the logistic regression model, a popular and effective classification model. Understanding logistic regression and being able to apply it to classification tasks is essential because logistic regression models form the fundamentals of neural networks.\n"
   ]
  },
  {
   "cell_type": "markdown",
   "id": "c5e763d9-298c-44fd-ba4c-8474e9c42c31",
   "metadata": {},
   "source": [
    "## **Objective**"
   ]
  },
  {
   "cell_type": "markdown",
   "id": "1b864406-c800-466f-ba4e-0fb81d164ef9",
   "metadata": {},
   "source": [
    "We used a real-world dataset that contains detailed financial information about customers loan records. The objective is to classify whether a customer would be a Loan Defaulter or not. Based on the financial information in the dataset."
   ]
  },
  {
   "cell_type": "markdown",
   "id": "6a491b09-b533-4e7b-a134-cf07985ccf2f",
   "metadata": {},
   "source": [
    "## **Setup**"
   ]
  },
  {
   "cell_type": "markdown",
   "id": "e24074ad-46bf-4c4a-a25a-4780876510a1",
   "metadata": {},
   "source": [
    "For this lab, we will be using the following libraries:\n",
    "\n",
    " Pandas for managing the data.\n",
    "\n",
    " Numpy for mathematical operations.\n",
    "\n",
    " Seaborn for visualizing the data.\n",
    "\n",
    " Matplotlib for visualizing the data.\n",
    "\n",
    " Plotly.express for visualizing the data.\n",
    "\n",
    " Sklearn for machine learning and machine-learning-pipeline related functions."
   ]
  },
  {
   "cell_type": "code",
   "execution_count": 260,
   "id": "ee0cfeee-26e2-4faf-bf7c-a57481608360",
   "metadata": {},
   "outputs": [],
   "source": [
    "# Surpress warnings from using older version of sklearn:\n",
    "def warn(*args, **kwargs):\n",
    "    pass\n",
    "import warnings\n",
    "warnings.warn = warn"
   ]
  },
  {
   "cell_type": "markdown",
   "id": "09ca7ea1-d8c7-4029-a938-73ecbea4e6e1",
   "metadata": {},
   "source": [
    "## **Installing Required Libraries**"
   ]
  },
  {
   "cell_type": "code",
   "execution_count": 261,
   "id": "7ea68c2b-6616-4d1e-8f3f-4d142600c077",
   "metadata": {},
   "outputs": [],
   "source": [
    "import pandas as pd\n",
    "import numpy as np\n",
    "\n",
    "import matplotlib.pyplot as plt\n",
    "%matplotlib inline\n",
    "import seaborn as sns\n",
    "import plotly.express as px\n",
    "\n",
    "from sklearn.preprocessing import StandardScaler\n",
    "from sklearn.decomposition import PCA\n",
    "\n",
    "from sklearn.preprocessing import OneHotEncoder, LabelEncoder, MinMaxScaler\n",
    "from sklearn.model_selection import train_test_split, learning_curve\n",
    "from sklearn.linear_model import LogisticRegression\n",
    "from sklearn import metrics\n",
    "from sklearn.metrics import classification_report, accuracy_score, confusion_matrix, precision_recall_fscore_support, precision_score, recall_score\n"
   ]
  },
  {
   "cell_type": "code",
   "execution_count": 262,
   "id": "a9564d4d-acd0-4a04-ac70-29f307540648",
   "metadata": {},
   "outputs": [],
   "source": [
    "# also set a random state\n",
    "rs = 123"
   ]
  },
  {
   "cell_type": "markdown",
   "id": "4bf2a0db-13c6-4b7b-804b-1fffe44027d3",
   "metadata": {},
   "source": [
    "## **Reading and understanding our data**"
   ]
  },
  {
   "cell_type": "code",
   "execution_count": 263,
   "id": "8674c3ad-a197-4434-99d1-efbdbea28918",
   "metadata": {},
   "outputs": [
    {
     "data": {
      "text/html": [
       "<div>\n",
       "<style scoped>\n",
       "    .dataframe tbody tr th:only-of-type {\n",
       "        vertical-align: middle;\n",
       "    }\n",
       "\n",
       "    .dataframe tbody tr th {\n",
       "        vertical-align: top;\n",
       "    }\n",
       "\n",
       "    .dataframe thead th {\n",
       "        text-align: right;\n",
       "    }\n",
       "</style>\n",
       "<table border=\"1\" class=\"dataframe\">\n",
       "  <thead>\n",
       "    <tr style=\"text-align: right;\">\n",
       "      <th></th>\n",
       "      <th>Customer ID</th>\n",
       "      <th>Annual income</th>\n",
       "      <th>Credit score</th>\n",
       "      <th>Employment length</th>\n",
       "      <th>Debt-to-income ratio</th>\n",
       "      <th>Loan default</th>\n",
       "    </tr>\n",
       "  </thead>\n",
       "  <tbody>\n",
       "    <tr>\n",
       "      <th>0</th>\n",
       "      <td>1</td>\n",
       "      <td>$65,000</td>\n",
       "      <td>680</td>\n",
       "      <td>2 years</td>\n",
       "      <td>0.24</td>\n",
       "      <td>0.0</td>\n",
       "    </tr>\n",
       "    <tr>\n",
       "      <th>1</th>\n",
       "      <td>2</td>\n",
       "      <td>$40,000</td>\n",
       "      <td>590</td>\n",
       "      <td>1 year</td>\n",
       "      <td>0.37</td>\n",
       "      <td>1.0</td>\n",
       "    </tr>\n",
       "    <tr>\n",
       "      <th>2</th>\n",
       "      <td>3</td>\n",
       "      <td>$95,000</td>\n",
       "      <td>720</td>\n",
       "      <td>5 years</td>\n",
       "      <td>0.16</td>\n",
       "      <td>0.0</td>\n",
       "    </tr>\n",
       "    <tr>\n",
       "      <th>3</th>\n",
       "      <td>4</td>\n",
       "      <td>$35,000</td>\n",
       "      <td>530</td>\n",
       "      <td>6 months</td>\n",
       "      <td>0.50</td>\n",
       "      <td>1.0</td>\n",
       "    </tr>\n",
       "    <tr>\n",
       "      <th>4</th>\n",
       "      <td>5</td>\n",
       "      <td>$80,000</td>\n",
       "      <td>710</td>\n",
       "      <td>4 years</td>\n",
       "      <td>0.27</td>\n",
       "      <td>0.0</td>\n",
       "    </tr>\n",
       "  </tbody>\n",
       "</table>\n",
       "</div>"
      ],
      "text/plain": [
       "   Customer ID Annual income  Credit score Employment length  \\\n",
       "0            1       $65,000           680           2 years   \n",
       "1            2       $40,000           590            1 year   \n",
       "2            3       $95,000           720           5 years   \n",
       "3            4       $35,000           530          6 months   \n",
       "4            5       $80,000           710           4 years   \n",
       "\n",
       "   Debt-to-income ratio  Loan default  \n",
       "0                  0.24           0.0  \n",
       "1                  0.37           1.0  \n",
       "2                  0.16           0.0  \n",
       "3                  0.50           1.0  \n",
       "4                  0.27           0.0  "
      ]
     },
     "execution_count": 263,
     "metadata": {},
     "output_type": "execute_result"
    }
   ],
   "source": [
    "data = pd.read_csv('C:/Users/CCL/Downloads/Financial data - Sheet1.csv')\n",
    "data.head()"
   ]
  },
  {
   "cell_type": "markdown",
   "id": "d1534c79-14b4-4643-ada0-c8fa8a237125",
   "metadata": {},
   "source": [
    " using `info` function, we will take a look at our types of data."
   ]
  },
  {
   "cell_type": "code",
   "execution_count": 264,
   "id": "473e2377-1a71-43ac-a9b1-fb32a5b69f19",
   "metadata": {},
   "outputs": [
    {
     "name": "stdout",
     "output_type": "stream",
     "text": [
      "<class 'pandas.core.frame.DataFrame'>\n",
      "RangeIndex: 58 entries, 0 to 57\n",
      "Data columns (total 6 columns):\n",
      " #   Column                Non-Null Count  Dtype  \n",
      "---  ------                --------------  -----  \n",
      " 0   Customer ID           58 non-null     int64  \n",
      " 1   Annual income         57 non-null     object \n",
      " 2   Credit score          58 non-null     int64  \n",
      " 3   Employment length     57 non-null     object \n",
      " 4   Debt-to-income ratio  57 non-null     float64\n",
      " 5   Loan default          57 non-null     float64\n",
      "dtypes: float64(2), int64(2), object(2)\n",
      "memory usage: 2.8+ KB\n"
     ]
    }
   ],
   "source": [
    "data.info()"
   ]
  },
  {
   "cell_type": "markdown",
   "id": "d077a68c-eec1-468f-a7ba-6575537141dc",
   "metadata": {},
   "source": [
    "Next, we will check for any null values."
   ]
  },
  {
   "cell_type": "code",
   "execution_count": 265,
   "id": "7bf0b3cf-72a2-4540-9efa-75d3573d90d7",
   "metadata": {},
   "outputs": [
    {
     "data": {
      "text/plain": [
       "Customer ID             0\n",
       "Annual income           1\n",
       "Credit score            0\n",
       "Employment length       1\n",
       "Debt-to-income ratio    1\n",
       "Loan default            1\n",
       "dtype: int64"
      ]
     },
     "execution_count": 265,
     "metadata": {},
     "output_type": "execute_result"
    }
   ],
   "source": [
    "data.isnull().sum()"
   ]
  },
  {
   "cell_type": "markdown",
   "id": "5e7c3be8-babe-43a7-8801-08ec41d16896",
   "metadata": {},
   "source": [
    "Now that we have found some null points, we need to either remove them from our dataset or fill them with something else. In this case, we will use `fillna()` and `method='ffill'`, which fills the last observed non-null value forward until another non-null value is encountered."
   ]
  },
  {
   "cell_type": "code",
   "execution_count": 266,
   "id": "74faf222-6961-45ad-946f-26d04e5210e7",
   "metadata": {},
   "outputs": [],
   "source": [
    "data = data.fillna(method='ffill')"
   ]
  },
  {
   "cell_type": "markdown",
   "id": "afd07624-c287-405e-b960-8ba9ac530254",
   "metadata": {},
   "source": [
    "#### **Transforming the 'Employment length' column**"
   ]
  },
  {
   "cell_type": "markdown",
   "id": "3ec291cd-d4cd-4081-ad31-3a2c61a25880",
   "metadata": {},
   "source": [
    "Here, we will take a closer look at the 'Employment length' variable. Employment length is the duration a customer used in a particular place of work. In our dataset, the 'Employment length' is expressed as a string, in year(s) and months. To be recognized by machine learning algorithms, we need to transform it into numerical type.\n",
    "\n",
    "The code below will iterate through each record in 'Employment length' column and convert it into months, as an additional separate column. The total employment length in months column will be useful feature for any regression type of analysis. In this case, logistic regression.\n"
   ]
  },
  {
   "cell_type": "code",
   "execution_count": 267,
   "id": "7a572994-9dc8-4f30-964f-7c4fe109af16",
   "metadata": {},
   "outputs": [],
   "source": [
    "\n",
    "employment_length_in_months = []\n",
    "\n",
    "employment_length = list(data['Employment length'])\n",
    "for i in range(len(employment_length)):\n",
    "    if employment_length[i].split()[1] == 'years' or employment_length[i].split()[1] == 'year' :\n",
    "         employment_length_in_months.append(int(employment_length[i].split()[0]) * 12)\n",
    "    elif employment_length[i].split()[1] == 'months':\n",
    "        employment_length_in_months.append(int(employment_length[i].split()[0]))\n",
    "      \n",
    "data['Employment_length_in_months'] = employment_length_in_months    \n"
   ]
  },
  {
   "cell_type": "code",
   "execution_count": 268,
   "id": "37a5e4d0-a410-4047-9d56-97a0e4a076db",
   "metadata": {},
   "outputs": [],
   "source": [
    "# A similar approach is applied to the annual income column\n",
    "annual_income_in_dollars = []\n",
    "\n",
    "annual_income = list(data['Annual income'])\n",
    "for i in range(len(annual_income)):\n",
    "    if annual_income[i].split('$')[0] == '':\n",
    "        annual_income_in_dollars.append(int(annual_income[i].split('$')[1].split(',')[0]) * 1000)\n",
    "        \n",
    "data['Annual_income_in_dollars'] = annual_income_in_dollars\n",
    "        "
   ]
  },
  {
   "cell_type": "markdown",
   "id": "b3fd59f2-3a02-47a8-907d-bbf7c58cc58c",
   "metadata": {},
   "source": [
    "Print 'data' data frame to see the newly created columns."
   ]
  },
  {
   "cell_type": "code",
   "execution_count": 269,
   "id": "223f2ef8-5658-41e3-993b-a651fff4cb29",
   "metadata": {},
   "outputs": [
    {
     "data": {
      "text/html": [
       "<div>\n",
       "<style scoped>\n",
       "    .dataframe tbody tr th:only-of-type {\n",
       "        vertical-align: middle;\n",
       "    }\n",
       "\n",
       "    .dataframe tbody tr th {\n",
       "        vertical-align: top;\n",
       "    }\n",
       "\n",
       "    .dataframe thead th {\n",
       "        text-align: right;\n",
       "    }\n",
       "</style>\n",
       "<table border=\"1\" class=\"dataframe\">\n",
       "  <thead>\n",
       "    <tr style=\"text-align: right;\">\n",
       "      <th></th>\n",
       "      <th>Customer ID</th>\n",
       "      <th>Annual income</th>\n",
       "      <th>Credit score</th>\n",
       "      <th>Employment length</th>\n",
       "      <th>Debt-to-income ratio</th>\n",
       "      <th>Loan default</th>\n",
       "      <th>Employment_length_in_months</th>\n",
       "      <th>Annual_income_in_dollars</th>\n",
       "    </tr>\n",
       "  </thead>\n",
       "  <tbody>\n",
       "    <tr>\n",
       "      <th>0</th>\n",
       "      <td>1</td>\n",
       "      <td>$65,000</td>\n",
       "      <td>680</td>\n",
       "      <td>2 years</td>\n",
       "      <td>0.24</td>\n",
       "      <td>0.0</td>\n",
       "      <td>24</td>\n",
       "      <td>65000</td>\n",
       "    </tr>\n",
       "    <tr>\n",
       "      <th>1</th>\n",
       "      <td>2</td>\n",
       "      <td>$40,000</td>\n",
       "      <td>590</td>\n",
       "      <td>1 year</td>\n",
       "      <td>0.37</td>\n",
       "      <td>1.0</td>\n",
       "      <td>12</td>\n",
       "      <td>40000</td>\n",
       "    </tr>\n",
       "    <tr>\n",
       "      <th>2</th>\n",
       "      <td>3</td>\n",
       "      <td>$95,000</td>\n",
       "      <td>720</td>\n",
       "      <td>5 years</td>\n",
       "      <td>0.16</td>\n",
       "      <td>0.0</td>\n",
       "      <td>60</td>\n",
       "      <td>95000</td>\n",
       "    </tr>\n",
       "    <tr>\n",
       "      <th>3</th>\n",
       "      <td>4</td>\n",
       "      <td>$35,000</td>\n",
       "      <td>530</td>\n",
       "      <td>6 months</td>\n",
       "      <td>0.50</td>\n",
       "      <td>1.0</td>\n",
       "      <td>6</td>\n",
       "      <td>35000</td>\n",
       "    </tr>\n",
       "    <tr>\n",
       "      <th>4</th>\n",
       "      <td>5</td>\n",
       "      <td>$80,000</td>\n",
       "      <td>710</td>\n",
       "      <td>4 years</td>\n",
       "      <td>0.27</td>\n",
       "      <td>0.0</td>\n",
       "      <td>48</td>\n",
       "      <td>80000</td>\n",
       "    </tr>\n",
       "  </tbody>\n",
       "</table>\n",
       "</div>"
      ],
      "text/plain": [
       "   Customer ID Annual income  Credit score Employment length  \\\n",
       "0            1       $65,000           680           2 years   \n",
       "1            2       $40,000           590            1 year   \n",
       "2            3       $95,000           720           5 years   \n",
       "3            4       $35,000           530          6 months   \n",
       "4            5       $80,000           710           4 years   \n",
       "\n",
       "   Debt-to-income ratio  Loan default  Employment_length_in_months  \\\n",
       "0                  0.24           0.0                           24   \n",
       "1                  0.37           1.0                           12   \n",
       "2                  0.16           0.0                           60   \n",
       "3                  0.50           1.0                            6   \n",
       "4                  0.27           0.0                           48   \n",
       "\n",
       "   Annual_income_in_dollars  \n",
       "0                     65000  \n",
       "1                     40000  \n",
       "2                     95000  \n",
       "3                     35000  \n",
       "4                     80000  "
      ]
     },
     "execution_count": 269,
     "metadata": {},
     "output_type": "execute_result"
    }
   ],
   "source": [
    "data.head()"
   ]
  },
  {
   "cell_type": "markdown",
   "id": "b9fec730-8f0d-4f57-97bf-3f38ec3a1a5c",
   "metadata": {},
   "source": [
    "## **Feature Selection**"
   ]
  },
  {
   "cell_type": "markdown",
   "id": "f8a52cfa-eb47-4108-a3e3-f724ea907143",
   "metadata": {},
   "source": [
    "Here, we will select only those attributes which best explain the relationship of the independent variables with respect to the target variable, 'Loan default'. \n",
    "\n",
    "First, we will select only the relevant and newly transformed variables (and exclude variables such as 'customer ID'and 'Employment length), and place them into a 'new_data' data frame."
   ]
  },
  {
   "cell_type": "code",
   "execution_count": 270,
   "id": "90cf60e7-9923-4350-b21d-bcc3eff6c3e8",
   "metadata": {},
   "outputs": [
    {
     "data": {
      "text/plain": [
       "['Customer ID',\n",
       " 'Annual income',\n",
       " 'Credit score',\n",
       " 'Employment length',\n",
       " 'Debt-to-income ratio',\n",
       " 'Loan default',\n",
       " 'Employment_length_in_months',\n",
       " 'Annual_income_in_dollars']"
      ]
     },
     "execution_count": 270,
     "metadata": {},
     "output_type": "execute_result"
    }
   ],
   "source": [
    "list(data.columns)"
   ]
  },
  {
   "cell_type": "code",
   "execution_count": 271,
   "id": "4d699e35-3f53-4c0e-8d12-4322834eef52",
   "metadata": {},
   "outputs": [],
   "source": [
    "new_data = data.loc[:,['Annual_income_in_dollars',\n",
    " 'Credit score', 'Debt-to-income ratio','Employment_length_in_months','Loan default']]"
   ]
  },
  {
   "cell_type": "code",
   "execution_count": 272,
   "id": "0b0e5014-0395-48fb-b743-a26624d98129",
   "metadata": {},
   "outputs": [
    {
     "data": {
      "image/png": "[encoded data removed]",
      "text/plain": [
       "<Figure size 3000x2500 with 2 Axes>"
      ]
     },
     "metadata": {},
     "output_type": "display_data"
    }
   ],
   "source": [
    "#Multicollinearity\n",
    "num = new_data.select_dtypes(include = ['int64', 'float64']) \n",
    "plt.figure(figsize = (30, 25)) \n",
    "sns.heatmap(num.corr(), annot = True, cmap=\"YlGnBu\")\n",
    "plt.show()"
   ]
  },
  {
   "cell_type": "markdown",
   "id": "141aee61-ea36-4c29-a682-aad346a9ea40",
   "metadata": {},
   "source": [
    "Observation. As we can see, the multicollinearity still exists in various features."
   ]
  },
  {
   "cell_type": "code",
   "execution_count": 273,
   "id": "1ecf06ab-bcac-4c9c-b1a0-d55ece35eb5c",
   "metadata": {},
   "outputs": [
    {
     "data": {
      "text/plain": [
       "['Annual_income_in_dollars',\n",
       " 'Credit score',\n",
       " 'Debt-to-income ratio',\n",
       " 'Employment_length_in_months']"
      ]
     },
     "execution_count": 273,
     "metadata": {},
     "output_type": "execute_result"
    }
   ],
   "source": [
    "feature_cols = list(new_data.iloc[:, :-1].columns)\n",
    "feature_cols"
   ]
  },
  {
   "cell_type": "markdown",
   "id": "47e8bcf0-fe21-43a7-8e7b-5eea333e7045",
   "metadata": {},
   "source": [
    "Obtain descriptive statistics:"
   ]
  },
  {
   "cell_type": "code",
   "execution_count": 274,
   "id": "500b7b68-3207-4adb-82e7-8648d32c839a",
   "metadata": {},
   "outputs": [
    {
     "data": {
      "text/html": [
       "<div>\n",
       "<style scoped>\n",
       "    .dataframe tbody tr th:only-of-type {\n",
       "        vertical-align: middle;\n",
       "    }\n",
       "\n",
       "    .dataframe tbody tr th {\n",
       "        vertical-align: top;\n",
       "    }\n",
       "\n",
       "    .dataframe thead th {\n",
       "        text-align: right;\n",
       "    }\n",
       "</style>\n",
       "<table border=\"1\" class=\"dataframe\">\n",
       "  <thead>\n",
       "    <tr style=\"text-align: right;\">\n",
       "      <th></th>\n",
       "      <th>Annual_income_in_dollars</th>\n",
       "      <th>Credit score</th>\n",
       "      <th>Debt-to-income ratio</th>\n",
       "      <th>Employment_length_in_months</th>\n",
       "    </tr>\n",
       "  </thead>\n",
       "  <tbody>\n",
       "    <tr>\n",
       "      <th>count</th>\n",
       "      <td>58.000000</td>\n",
       "      <td>58.000000</td>\n",
       "      <td>58.000000</td>\n",
       "      <td>58.000000</td>\n",
       "    </tr>\n",
       "    <tr>\n",
       "      <th>mean</th>\n",
       "      <td>68948.275862</td>\n",
       "      <td>674.310345</td>\n",
       "      <td>0.299310</td>\n",
       "      <td>38.482759</td>\n",
       "    </tr>\n",
       "    <tr>\n",
       "      <th>std</th>\n",
       "      <td>23568.803655</td>\n",
       "      <td>80.461652</td>\n",
       "      <td>0.117501</td>\n",
       "      <td>24.210511</td>\n",
       "    </tr>\n",
       "    <tr>\n",
       "      <th>min</th>\n",
       "      <td>35000.000000</td>\n",
       "      <td>520.000000</td>\n",
       "      <td>0.110000</td>\n",
       "      <td>6.000000</td>\n",
       "    </tr>\n",
       "    <tr>\n",
       "      <th>25%</th>\n",
       "      <td>45750.000000</td>\n",
       "      <td>610.000000</td>\n",
       "      <td>0.205000</td>\n",
       "      <td>12.000000</td>\n",
       "    </tr>\n",
       "    <tr>\n",
       "      <th>50%</th>\n",
       "      <td>70000.000000</td>\n",
       "      <td>695.000000</td>\n",
       "      <td>0.280000</td>\n",
       "      <td>36.000000</td>\n",
       "    </tr>\n",
       "    <tr>\n",
       "      <th>75%</th>\n",
       "      <td>88750.000000</td>\n",
       "      <td>730.000000</td>\n",
       "      <td>0.395000</td>\n",
       "      <td>60.000000</td>\n",
       "    </tr>\n",
       "    <tr>\n",
       "      <th>max</th>\n",
       "      <td>115000.000000</td>\n",
       "      <td>800.000000</td>\n",
       "      <td>0.520000</td>\n",
       "      <td>84.000000</td>\n",
       "    </tr>\n",
       "  </tbody>\n",
       "</table>\n",
       "</div>"
      ],
      "text/plain": [
       "       Annual_income_in_dollars  Credit score  Debt-to-income ratio  \\\n",
       "count                 58.000000     58.000000             58.000000   \n",
       "mean               68948.275862    674.310345              0.299310   \n",
       "std                23568.803655     80.461652              0.117501   \n",
       "min                35000.000000    520.000000              0.110000   \n",
       "25%                45750.000000    610.000000              0.205000   \n",
       "50%                70000.000000    695.000000              0.280000   \n",
       "75%                88750.000000    730.000000              0.395000   \n",
       "max               115000.000000    800.000000              0.520000   \n",
       "\n",
       "       Employment_length_in_months  \n",
       "count                    58.000000  \n",
       "mean                     38.482759  \n",
       "std                      24.210511  \n",
       "min                       6.000000  \n",
       "25%                      12.000000  \n",
       "50%                      36.000000  \n",
       "75%                      60.000000  \n",
       "max                      84.000000  "
      ]
     },
     "execution_count": 274,
     "metadata": {},
     "output_type": "execute_result"
    }
   ],
   "source": [
    "new_data.iloc[:, :-1].describe()"
   ]
  },
  {
   "cell_type": "markdown",
   "id": "e99ff28e-b7c5-4445-8322-beb2e28507cd",
   "metadata": {},
   "source": [
    "As we can see from the above output, this dataset contains 4  categories about each customer. These categories include Annual income in dollars, Credit score, Debt-to-income ratio and Employment length in months etc., and are listed as numeric variables. As such, we only need to scale them for training our logistic regression model so that we can compare our feature coefficients directly."
   ]
  },
  {
   "cell_type": "markdown",
   "id": "61a6a527-6f7c-4523-9222-b086e1c0de99",
   "metadata": {},
   "source": [
    "Next, let's check the target variable in the `Loan default` column to see the label values and their distribution."
   ]
  },
  {
   "cell_type": "code",
   "execution_count": 275,
   "id": "ec759fa3-a49c-4d15-8aa1-c2da6463f52d",
   "metadata": {},
   "outputs": [
    {
     "data": {
      "text/plain": [
       "Loan default\n",
       "0.0             0.689655\n",
       "1.0             0.310345\n",
       "dtype: float64"
      ]
     },
     "execution_count": 275,
     "metadata": {},
     "output_type": "execute_result"
    }
   ],
   "source": [
    "# # Get the row entries with the last col 'Loan default'\n",
    "new_data.iloc[:, -1:].value_counts(normalize=True)"
   ]
  },
  {
   "cell_type": "markdown",
   "id": "41d6cf90-ffea-4ed6-a23e-f4699f00f948",
   "metadata": {},
   "source": [
    "The customer defaulted on loan (1) or the customer didn't default on loan (0)"
   ]
  },
  {
   "cell_type": "code",
   "execution_count": 276,
   "id": "2df6a56a-508e-413f-a0dc-64f5974403b2",
   "metadata": {},
   "outputs": [
    {
     "data": {
      "text/plain": [
       "<AxesSubplot:xlabel='Loan default'>"
      ]
     },
     "execution_count": 276,
     "metadata": {},
     "output_type": "execute_result"
    },
    {
     "data": {
      "image/png": "[encoded data removed]",
      "text/plain": [
       "<Figure size 640x480 with 1 Axes>"
      ]
     },
     "metadata": {},
     "output_type": "display_data"
    }
   ],
   "source": [
    "new_data.iloc[:, -1:].value_counts().plot.bar(color=['yellow', 'red'])"
   ]
  },
  {
   "cell_type": "markdown",
   "id": "db690619-325e-4e47-832a-15ed84e8299a",
   "metadata": {},
   "source": [
    "As we can see from the bar chart above, this dataset has two classes: `Loan Defaulter` (1) and `Non Loan Defaulter` (0). The two labels are imbalanced. We could build a machine learning model to help in weeding out the bad eggs (defaulters)."
   ]
  },
  {
   "cell_type": "markdown",
   "id": "61ac5291-9e37-4c28-90b0-f33d3be89744",
   "metadata": {},
   "source": [
    "A binary logistic regression is a generalized logistic regression model which generates a probability distribution over all classes, based on the logits or exponentiated log-odds calculated for each class (usually two)."
   ]
  },
  {
   "cell_type": "markdown",
   "id": "1aec72ad-f64e-4788-8093-612b97e8b892",
   "metadata": {},
   "source": [
    "### **Feature Engineering**"
   ]
  },
  {
   "cell_type": "markdown",
   "id": "46177a6a-1524-4ff6-a4ec-fb0397d89b26",
   "metadata": {},
   "source": [
    "Next, let's process the raw dataset and construct input data `X` and label/output `y` for logistic regression model training.\n"
   ]
  },
  {
   "cell_type": "code",
   "execution_count": 277,
   "id": "0c5fd94f-ba94-416a-a95c-c17d2805374a",
   "metadata": {},
   "outputs": [],
   "source": [
    "X_raw = new_data.iloc[:, :-1]\n",
    "y_raw = new_data.iloc[:, -1:]"
   ]
  },
  {
   "cell_type": "markdown",
   "id": "613dd3a2-d84c-4f8f-92d3-e753e402e7f6",
   "metadata": {},
   "source": [
    "Fortunately, all feature columns are numeric so we just need to scale them. Here we use the `MinMaxScaler` provided by `sklearn` for scaling."
   ]
  },
  {
   "cell_type": "code",
   "execution_count": 278,
   "id": "02b867ab-e61e-4786-bfca-5a6cd72b8a70",
   "metadata": {},
   "outputs": [],
   "source": [
    "# Create a MinMaxScaler object\n",
    "scaler = MinMaxScaler()"
   ]
  },
  {
   "cell_type": "code",
   "execution_count": 279,
   "id": "49344cd4-fadc-4e1f-9053-97302eec19d2",
   "metadata": {},
   "outputs": [],
   "source": [
    "# Scaling the raw input features\n",
    "X = scaler.fit_transform(X_raw)"
   ]
  },
  {
   "cell_type": "markdown",
   "id": "0be9bc57-6051-4dc6-96c0-81ad3be0ec5b",
   "metadata": {},
   "source": [
    "Let's check the scaled feature value range:"
   ]
  },
  {
   "cell_type": "code",
   "execution_count": 280,
   "id": "557d991e-3c81-4488-8f8a-6f0053655865",
   "metadata": {},
   "outputs": [
    {
     "name": "stdout",
     "output_type": "stream",
     "text": [
      "The range of feature inputs are within 0.0 to 1.0000000000000002\n"
     ]
    }
   ],
   "source": [
    "print(f\"The range of feature inputs are within {X.min()} to {X.max()}\")"
   ]
  },
  {
   "cell_type": "markdown",
   "id": "265a7fda-3385-457d-8615-61aeff2fb86c",
   "metadata": {},
   "source": [
    "For the target variable `y`, let's use the `LabelEncoder` provided by `sklearn` to encode its three class values."
   ]
  },
  {
   "cell_type": "code",
   "execution_count": 281,
   "id": "4785187f-d268-4bb4-872a-38ca3f7dc2f1",
   "metadata": {},
   "outputs": [],
   "source": [
    "# Create a LabelEncoder object\n",
    "label_encoder = LabelEncoder()"
   ]
  },
  {
   "cell_type": "code",
   "execution_count": 282,
   "id": "b07ada3d-93ae-437e-9247-9006475bb9d4",
   "metadata": {},
   "outputs": [],
   "source": [
    "# Encode the target variable\n",
    "y = label_encoder.fit_transform(y_raw.values.ravel())\n"
   ]
  },
  {
   "cell_type": "markdown",
   "id": "e766c03a-a640-4a01-8b49-6924eb66c151",
   "metadata": {},
   "source": [
    "The encoded target variable will only contain values `0= Non Loan Defaulter`, `1=Loan Defaulter`"
   ]
  },
  {
   "cell_type": "code",
   "execution_count": 283,
   "id": "b13e8877-f2df-456b-8881-7bffa823b87e",
   "metadata": {},
   "outputs": [
    {
     "data": {
      "text/plain": [
       "(array([0, 1], dtype=int64), array([40, 18], dtype=int64))"
      ]
     },
     "execution_count": 283,
     "metadata": {},
     "output_type": "execute_result"
    }
   ],
   "source": [
    "np.unique(y, return_counts=True)"
   ]
  },
  {
   "cell_type": "markdown",
   "id": "628a220e-9acc-4660-814d-29701c3e8017",
   "metadata": {},
   "source": [
    "# Train logistic regression models"
   ]
  },
  {
   "cell_type": "markdown",
   "id": "af3bc43b-ba03-4420-bd01-1245b725f43c",
   "metadata": {},
   "source": [
    "First, let's split the training and testing dataset. Training dataset will be used to train and tune models, and testing dataset will be used to evaluate the models. Note that you may also split a validation dataset from the training dataset for model tuning only."
   ]
  },
  {
   "cell_type": "code",
   "execution_count": 284,
   "id": "b87c0172-bcc6-47bc-a859-9d1227ab6ed7",
   "metadata": {},
   "outputs": [],
   "source": [
    "# First, let's split the training and testing dataset\n",
    "X_train, X_test, y_train, y_test = train_test_split(X, y, test_size=0.2, stratify=y, random_state = rs)"
   ]
  },
  {
   "cell_type": "markdown",
   "id": "7557e67b-a094-428f-bfa9-5d7d635102e6",
   "metadata": {},
   "source": [
    "Let's look at the shapes of the split datasets:\n"
   ]
  },
  {
   "cell_type": "code",
   "execution_count": 285,
   "id": "8bfa48c5-623b-45a4-9aac-91e1be3c4c1d",
   "metadata": {},
   "outputs": [
    {
     "name": "stdout",
     "output_type": "stream",
     "text": [
      "Training dataset shape, X_train: (46, 4), y_train: (46,)\n"
     ]
    }
   ],
   "source": [
    "print(f\"Training dataset shape, X_train: {X_train.shape}, y_train: {y_train.shape}\")"
   ]
  },
  {
   "cell_type": "code",
   "execution_count": 286,
   "id": "d9c9dd6f-61de-4303-904a-f2e936042d05",
   "metadata": {},
   "outputs": [
    {
     "name": "stdout",
     "output_type": "stream",
     "text": [
      "Testing dataset shape, X_test: (12, 4), y_test: (12,)\n"
     ]
    }
   ],
   "source": [
    "print(f\"Testing dataset shape, X_test: {X_test.shape}, y_test: {y_test.shape}\")"
   ]
  },
  {
   "cell_type": "markdown",
   "id": "7c93f50b-1dca-4450-8e03-d095f7be0604",
   "metadata": {},
   "source": [
    "OK, now we have the training and testing datasets ready, let's start the model training task."
   ]
  },
  {
   "cell_type": "markdown",
   "id": "6d462c86-e2be-40d1-b279-f3b2ebe2d646",
   "metadata": {},
   "source": [
    "We first define a `sklearn.linear_model.LogisticRegression` model with the following arguments, you can check the comment for each argument for what it means."
   ]
  },
  {
   "cell_type": "code",
   "execution_count": 287,
   "id": "4c6d6c3f-2ce3-49df-a511-4537d4f7d109",
   "metadata": {},
   "outputs": [],
   "source": [
    "# elasticnet penalty to shrink coefficients without removing any features from the model\n",
    "penalty= 'elasticnet'\n",
    "# Our classification problem is binary\n",
    "multi_class = 'auto'\n",
    "# Use saga for elasticnet penalty and multinomial classes\n",
    "solver = 'saga'\n",
    "# Max iteration = 1000\n",
    "max_iter = 1000\n",
    "#The penalty is  L1. \n",
    "l1_ratio = 1"
   ]
  },
  {
   "cell_type": "code",
   "execution_count": 288,
   "id": "7c0c8ea1-0e0c-4235-b2ef-f3b755ace5f8",
   "metadata": {},
   "outputs": [],
   "source": [
    "# Define a logistic regression model with above arguments\n",
    "l2_model = LogisticRegression(random_state=rs, penalty=penalty, multi_class=multi_class, solver=solver, max_iter=max_iter, l1_ratio=l1_ratio)"
   ]
  },
  {
   "cell_type": "markdown",
   "id": "d3b28215-f513-4d3b-bfae-13c9d0944a53",
   "metadata": {},
   "source": [
    "Let's train the model with training input data X_train and labels y_train:"
   ]
  },
  {
   "cell_type": "code",
   "execution_count": 290,
   "id": "ef0b0d93-9232-4f52-acbc-9c112182ed8e",
   "metadata": {},
   "outputs": [
    {
     "data": {
      "text/plain": [
       "LogisticRegression(l1_ratio=1, max_iter=1000, penalty='elasticnet',\n",
       "                   random_state=123, solver='saga')"
      ]
     },
     "execution_count": 290,
     "metadata": {},
     "output_type": "execute_result"
    }
   ],
   "source": [
    "l2_model.fit(X_train, y_train)"
   ]
  },
  {
   "cell_type": "code",
   "execution_count": 291,
   "id": "523248d2-8efc-4d1b-a9fe-b80fa641994b",
   "metadata": {},
   "outputs": [],
   "source": [
    "l2_preds = l2_model.predict(X_test)"
   ]
  },
  {
   "cell_type": "markdown",
   "id": "a3336c6f-ceeb-4fd1-930f-a66f2c6ad69a",
   "metadata": {},
   "source": [
    "Because we may need to evaluate the model multiple times with different model hyper parameters, here we define an utility method to take the ground truths y_test and the predictions preds, and return a Python dict with accuracy, recall, precision, and f1score."
   ]
  },
  {
   "cell_type": "code",
   "execution_count": 292,
   "id": "91e25bcc-3873-4b30-91b5-6e79e1e68e62",
   "metadata": {},
   "outputs": [],
   "source": [
    "def evaluate_metrics(yt, yp):\n",
    "    results_pos = {}\n",
    "    results_pos['accuracy'] = accuracy_score(yt, yp)\n",
    "    precision, recall, f_beta, _ = precision_recall_fscore_support(yt, yp)\n",
    "    results_pos['recall'] = recall\n",
    "    results_pos['precision'] = precision\n",
    "    results_pos['f1score'] = f_beta\n",
    "    return results_pos"
   ]
  },
  {
   "cell_type": "code",
   "execution_count": 293,
   "id": "36bab477-2124-41be-9a34-0edd10521bcf",
   "metadata": {},
   "outputs": [
    {
     "data": {
      "text/plain": [
       "{'accuracy': 1.0,\n",
       " 'recall': array([1., 1.]),\n",
       " 'precision': array([1., 1.]),\n",
       " 'f1score': array([1., 1.])}"
      ]
     },
     "execution_count": 293,
     "metadata": {},
     "output_type": "execute_result"
    }
   ],
   "source": [
    "evaluate_metrics(y_test, l2_preds)"
   ]
  },
  {
   "cell_type": "markdown",
   "id": "395783e2-8d89-4955-ab66-9f356ccb313a",
   "metadata": {},
   "source": [
    "As we can see from the above evaluation results, the logistic regression model has relatively good performance on this binary classification task. The overall accuracy is around 1.0 and the f1score is around 1.0."
   ]
  },
  {
   "cell_type": "markdown",
   "id": "3ff8b078-e8f6-49ca-8bcf-37bca79e7293",
   "metadata": {},
   "source": [
    "We can also plot the confusion matrix based on the true labels and predictions using the `confusion_matrix` method provided by `sklearn`,\n"
   ]
  },
  {
   "cell_type": "code",
   "execution_count": 294,
   "id": "32574e27-e99e-47e2-a711-6943ccf40078",
   "metadata": {},
   "outputs": [],
   "source": [
    "cf = confusion_matrix(y_test, l2_preds)"
   ]
  },
  {
   "cell_type": "code",
   "execution_count": 295,
   "id": "6a4ca12d-0cac-4c64-b755-6ffb288307b2",
   "metadata": {},
   "outputs": [
    {
     "data": {
      "image/png": "[encoded data removed]",
      "text/plain": [
       "<Figure size 1600x1200 with 2 Axes>"
      ]
     },
     "metadata": {},
     "output_type": "display_data"
    }
   ],
   "source": [
    "plt.figure(figsize=(16, 12))\n",
    "ax = sns.heatmap(cf, annot=True, fmt=\"d\", xticklabels=[\"Non Loan Defaulter\", \"Loan Defaulter\"], \n",
    "                 yticklabels=[\"Non Loan Defaulter\", \"Loan Defaulter\"])\n",
    "ax.set(title=\"Confusion Matrix\");"
   ]
  },
  {
   "cell_type": "markdown",
   "id": "5844bfa5-e843-4b11-b07f-80686125ba95",
   "metadata": {},
   "source": [
    "### Interpret logistic regression models"
   ]
  },
  {
   "cell_type": "markdown",
   "id": "b63ec7a7-0ce9-49ef-89e4-c1e47ffb8ee1",
   "metadata": {},
   "source": [
    "One way to interpret logistic regression models is by analyzing feature coefficients. Although it may not be as effective as the regular linear regression models because the logistic regression model has a sigmoid function, we can still get a sense for the importance or impact of each feature.\n"
   ]
  },
  {
   "cell_type": "markdown",
   "id": "cfb3df99-178f-4275-95b1-ebdbb217057b",
   "metadata": {},
   "source": [
    "We can check the coefficients for logistic regression model using its `coef_` attribute:"
   ]
  },
  {
   "cell_type": "code",
   "execution_count": 296,
   "id": "642f8013-3921-4ade-a77e-e88e96846a98",
   "metadata": {},
   "outputs": [
    {
     "data": {
      "text/plain": [
       "array([[-1.31902654, -4.78885347,  0.10895115,  0.        ]])"
      ]
     },
     "execution_count": 296,
     "metadata": {},
     "output_type": "execute_result"
    }
   ],
   "source": [
    "l2_model.coef_"
   ]
  },
  {
   "cell_type": "markdown",
   "id": "8f3cfc21-9c03-4c7d-b60f-496d9d640317",
   "metadata": {},
   "source": [
    "The `coef_` is a coefficients list with three elements, one element is the actual coefficent for class 0, 1. To better analyze the coefficients, let's use three utility methods to sort and visualize them.\n"
   ]
  },
  {
   "cell_type": "code",
   "execution_count": 297,
   "id": "ae6910a2-82fc-4f8d-b4b6-bbe10a7dc819",
   "metadata": {},
   "outputs": [],
   "source": [
    "# Extract and sort feature coefficients\n",
    "def get_feature_coefs(regression_model, label_index, columns):\n",
    "    coef_dict = {}\n",
    "    for coef, feat in zip(regression_model.coef_[label_index, :], columns):\n",
    "        if abs(coef) >= 0.01:\n",
    "            coef_dict[feat] = coef\n",
    "    # Sort coefficients\n",
    "    coef_dict = {k: v for k, v in sorted(coef_dict.items(), key=lambda item: item[1])}\n",
    "    return coef_dict\n",
    "\n",
    "# Generate bar colors based on if value is negative or positive\n",
    "def get_bar_colors(values):\n",
    "    color_vals = []\n",
    "    for val in values:\n",
    "        if val <= 0:\n",
    "            color_vals.append('r')\n",
    "        else:\n",
    "            color_vals.append('g')\n",
    "    return color_vals\n",
    "\n",
    "# Visualize coefficients\n",
    "def visualize_coefs(coef_dict):\n",
    "    features = list(coef_dict.keys())\n",
    "    values = list(coef_dict.values())\n",
    "    y_pos = np.arange(len(features))\n",
    "    color_vals = get_bar_colors(values)\n",
    "    plt.rcdefaults()\n",
    "    fig, ax = plt.subplots()\n",
    "    ax.barh(y_pos, values, align='center', color=color_vals)\n",
    "    ax.set_yticks(y_pos)\n",
    "    ax.set_yticklabels(features)\n",
    "    # labels read top-to-bottom\n",
    "    ax.invert_yaxis()  \n",
    "    ax.set_xlabel('Feature Coefficients')\n",
    "    ax.set_title('')\n",
    "    plt.show()"
   ]
  },
  {
   "cell_type": "markdown",
   "id": "3d4392c3-aa4a-48c6-8d85-dc341741e5b7",
   "metadata": {},
   "source": [
    "Then, let's visualize the sorted coefficient for class 0, the Non Loan default class:"
   ]
  },
  {
   "cell_type": "code",
   "execution_count": 298,
   "id": "fe8f9d93-12c6-4419-9de8-25b1486aac32",
   "metadata": {},
   "outputs": [],
   "source": [
    "# Get the coefficents for Class 1, Less Often\n",
    "coef_dict = get_feature_coefs(l2_model, 0, feature_cols)"
   ]
  },
  {
   "cell_type": "code",
   "execution_count": 299,
   "id": "6e763577-35fe-4cac-8502-c849b6f3bb8c",
   "metadata": {},
   "outputs": [
    {
     "data": {
      "image/png": "[encoded data removed]",
      "text/plain": [
       "<Figure size 640x480 with 1 Axes>"
      ]
     },
     "metadata": {},
     "output_type": "display_data"
    }
   ],
   "source": [
    "visualize_coefs(coef_dict)"
   ]
  },
  {
   "cell_type": "markdown",
   "id": "2725a2f9-6881-483c-adc3-67a97880997d",
   "metadata": {},
   "source": [
    "As we can see, debt-to-income ratio have low positive coefficients.  If a customer has a high credit score and an annual income, then it is unlikely to be categorized in the 'Loan Defaulter' class."
   ]
  },
  {
   "cell_type": "markdown",
   "id": "b6b2943e-7ccc-4196-aebb-bff4939152a2",
   "metadata": {},
   "source": [
    "## **References**"
   ]
  },
  {
   "cell_type": "markdown",
   "id": "89d3fcf6-2d86-4b93-ba36-89093b0236e6",
   "metadata": {},
   "source": [
    "IBM Skills Network https://skills.network/\n"
   ]
  },
  {
   "cell_type": "markdown",
   "id": "834a0e0f-f83b-4cca-a993-d3fd4407b54d",
   "metadata": {},
   "source": [
    "## **Thank you**"
   ]
  },
  {
   "cell_type": "markdown",
   "id": "956ab934-323d-4cd7-bb81-bb235a2b3961",
   "metadata": {},
   "source": [
    "***"
   ]
  },
  {
   "cell_type": "markdown",
   "id": "fd9c4bea-e167-4620-ae19-4c2f705916d1",
   "metadata": {},
   "source": [
    "## **Author**"
   ]
  },
  {
   "cell_type": "markdown",
   "id": "f66eb14f-bf01-426e-99ca-71997ba9d2c4",
   "metadata": {},
   "source": [
    "Adedoyinsola Ogungbesan"
   ]
  }
 ],
 "metadata": {
  "kernelspec": {
   "display_name": "Python 3 (ipykernel)",
   "language": "python",
   "name": "python3"
  },
  "language_info": {
   "codemirror_mode": {
    "name": "ipython",
    "version": 3
   },
   "file_extension": ".py",
   "mimetype": "text/x-python",
   "name": "python",
   "nbconvert_exporter": "python",
   "pygments_lexer": "ipython3",
   "version": "3.9.13"
  }
 },
 "nbformat": 4,
 "nbformat_minor": 5
}
